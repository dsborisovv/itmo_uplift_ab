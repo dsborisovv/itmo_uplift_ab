{
 "cells": [
  {
   "cell_type": "code",
   "execution_count": 1,
   "metadata": {
    "colab": {
     "base_uri": "https://localhost:8080/"
    },
    "id": "-P2NjIxl0XUg",
    "outputId": "26fd51ce-f518-4242-c9b5-8a15786f0d24"
   },
   "outputs": [
    {
     "output_type": "stream",
     "name": "stdout",
     "text": [
      "Mounted at /content/drive/\n"
     ]
    }
   ],
   "source": [
    "from google.colab import drive\n",
    "\n",
    "drive.mount(\"/content/drive/\")"
   ]
  },
  {
   "cell_type": "markdown",
   "metadata": {
    "id": "4EdqjVFi0lOP"
   },
   "source": [
    "# Импорты"
   ]
  },
  {
   "cell_type": "code",
   "execution_count": 2,
   "metadata": {
    "id": "u2IPVKUe0auA"
   },
   "outputs": [],
   "source": [
    "import collections\n",
    "import datetime\n",
    "import hashlib\n",
    "import os\n",
    "from base64 import b64encode\n",
    "\n",
    "import matplotlib.pyplot as plt\n",
    "import numpy as np\n",
    "import pandas as pd\n",
    "import scipy\n",
    "import scipy.stats as stats\n",
    "import seaborn as sns\n",
    "import statsmodels\n",
    "import statsmodels.sandbox.stats.multicomp\n",
    "from scipy.stats import norm\n",
    "from sklearn.utils import shuffle\n",
    "from statsmodels.stats.weightstats import ztest\n",
    "from tqdm import tqdm"
   ]
  },
  {
   "cell_type": "code",
   "execution_count": 3,
   "metadata": {
    "colab": {
     "base_uri": "https://localhost:8080/"
    },
    "id": "noZVSFCZ0167",
    "outputId": "b6fadd61-0994-43c1-d216-4a6391117a3b"
   },
   "outputs": [
    {
     "output_type": "stream",
     "name": "stderr",
     "text": [
      "<ipython-input-3-57f4fc94f2aa>:1: FutureWarning: Passing a negative integer is deprecated in version 1.0 and will not be supported in future version. Instead, use None to not limit the column width.\n",
      "  pd.set_option('display.max_colwidth', -1)\n"
     ]
    }
   ],
   "source": [
    "pd.set_option(\"display.max_colwidth\", -1)\n",
    "pd.set_option(\"display.max_columns\", 1000)\n",
    "pd.set_option(\"display.max_rows\", 20000)"
   ]
  },
  {
   "cell_type": "markdown",
   "source": [
    "# Необходимые функции"
   ],
   "metadata": {
    "id": "yzoZAHlD7DVo"
   }
  },
  {
   "cell_type": "code",
   "execution_count": 4,
   "metadata": {
    "id": "4OSOhbobBPXV"
   },
   "outputs": [],
   "source": [
    "def salt_generator(salt=None):\n",
    "    import os\n",
    "    from base64 import b64encode\n",
    "\n",
    "    salt = os.urandom(8)\n",
    "\n",
    "    return b64encode(salt).decode(\"ascii\")\n",
    "\n",
    "\n",
    "def groups_splitter(df, columns, user_salt=None):\n",
    "    if user_salt == None:\n",
    "        salt = salt_generator()\n",
    "    else:\n",
    "        salt = user_salt\n",
    "\n",
    "    df[\"hash\"] = ((df[\"user_id\"].astype(str)) + \"#\" + salt).apply(\n",
    "        lambda x: hashlib.sha256(x.encode(\"utf-8\")).hexdigest()\n",
    "    )\n",
    "\n",
    "    df[\"group\"] = (df[\"hash\"].str.slice(start=-6).apply(int, base=16) % 2).map(\n",
    "        lambda x: \"A\" if x == 0 else \"B\"\n",
    "    )\n",
    "\n",
    "    return df[columns].drop_duplicates()\n",
    "\n",
    "\n",
    "def get_bootstrap_array(arr):\n",
    "    return np.random.choice(arr, replace=True, size=len(arr))\n",
    "\n",
    "\n",
    "def calc_bootstrap_mean(arr, size=1000):\n",
    "    result = np.empty(size)\n",
    "    for i in range(size):\n",
    "        result[i] = np.mean(get_bootstrap_array(arr))\n",
    "    return result\n",
    "\n",
    "\n",
    "def get_p_value(dist):\n",
    "    dist = np.array(dist)\n",
    "    x = (dist > 0).mean()\n",
    "    pvalue = min(x, 1 - x) * 2\n",
    "    return pvalue\n",
    "\n",
    "\n",
    "def get_mde(metric_vec, alpha=0.05, beta=0.2):\n",
    "    metric_mean, metric_std, metric_n = (\n",
    "        metric_vec.mean(),\n",
    "        metric_vec.std(),\n",
    "        metric_vec.count(),\n",
    "    )\n",
    "\n",
    "    z_alpha = norm.ppf(1 - (alpha / 2), loc=0, scale=1)\n",
    "    z_beta = norm.ppf(1 - beta, loc=0, scale=1)\n",
    "\n",
    "    mde = (z_alpha + z_beta) * metric_std / np.sqrt(metric_n)\n",
    "\n",
    "    return mde * 100 / metric_mean"
   ]
  },
  {
   "cell_type": "markdown",
   "metadata": {
    "id": "77uEp6hl2Q4h"
   },
   "source": [
    "# Получение и предобработка данных"
   ]
  },
  {
   "cell_type": "code",
   "execution_count": 5,
   "metadata": {
    "id": "whh5uNt81M6W"
   },
   "outputs": [],
   "source": [
    "interactions = pd.read_csv(\n",
    "    \"/content/drive/MyDrive/itmo_recsys/kion_dataset/interactions.csv\"\n",
    ")"
   ]
  },
  {
   "cell_type": "code",
   "execution_count": 6,
   "metadata": {
    "colab": {
     "base_uri": "https://localhost:8080/"
    },
    "id": "6PuoWA0b2lWF",
    "outputId": "37f82aaf-a7cc-46ce-de13-d8585fac4ddb"
   },
   "outputs": [
    {
     "output_type": "stream",
     "name": "stdout",
     "text": [
      "Уникальных юзеров в interactions: 962_179\n",
      "Уникальных айтемов в interactions: 15_706\n"
     ]
    }
   ],
   "source": [
    "interactions[\"last_watch_dt\"] = pd.to_datetime(interactions[\"last_watch_dt\"]).map(\n",
    "    lambda x: x.date()\n",
    ")\n",
    "interactions[\"user_id\"] = interactions[\"user_id\"].astype(str)\n",
    "\n",
    "print(f\"Уникальных юзеров в interactions: {interactions['user_id'].nunique():_}\")\n",
    "print(f\"Уникальных айтемов в interactions: {interactions['item_id'].nunique():_}\")"
   ]
  },
  {
   "cell_type": "code",
   "execution_count": 7,
   "metadata": {
    "colab": {
     "base_uri": "https://localhost:8080/"
    },
    "id": "LjUkKml2AsBE",
    "outputId": "84194bd2-717f-4e70-d0db-902001d17823"
   },
   "outputs": [
    {
     "output_type": "stream",
     "name": "stdout",
     "text": [
      "2021-03-13 2021-08-22\n"
     ]
    }
   ],
   "source": [
    "max_date = interactions[\"last_watch_dt\"].max()\n",
    "min_date = interactions[\"last_watch_dt\"].min()\n",
    "print(min_date, max_date)"
   ]
  },
  {
   "cell_type": "code",
   "execution_count": 8,
   "metadata": {
    "id": "q_TZxag5AiQ-"
   },
   "outputs": [],
   "source": [
    "week2 = interactions[\n",
    "    interactions[\"last_watch_dt\"] >= max_date - datetime.timedelta(days=14)\n",
    "]\n",
    "week2 = week2.groupby(\"user_id\", as_index=False).agg({\"total_dur\": sum})"
   ]
  },
  {
   "cell_type": "markdown",
   "metadata": {
    "id": "QRVK8YT3_-Nz"
   },
   "source": [
    "# Дизайн теста"
   ]
  },
  {
   "cell_type": "markdown",
   "metadata": {
    "id": "7JzTYQuA2qPB"
   },
   "source": [
    "## Корректность и мощность"
   ]
  },
  {
   "cell_type": "markdown",
   "metadata": {
    "id": "fdoFHW1NAMdq"
   },
   "source": [
    "Посчитаем корректность на бутстрапе, тем самым определим ошибку первого рода"
   ]
  },
  {
   "cell_type": "code",
   "execution_count": null,
   "metadata": {
    "id": "Bk-2j3J9Fb9s"
   },
   "outputs": [],
   "source": [
    "def calculate_correctness(df, columns, effect=None):\n",
    "    correctness = []\n",
    "    values = []\n",
    "    for i in tqdm(range(1000)):\n",
    "        new_df = groups_splitter(\n",
    "            df.copy(), columns=columns, user_salt=salt_generator()\n",
    "        ).drop_duplicates()\n",
    "        vec_a = new_df[(new_df[\"group\"] == \"A\")][\"total_dur\"]\n",
    "        if effect:\n",
    "            vec_b = new_df[(new_df[\"group\"] == \"B\")][\"total_dur\"] * effect\n",
    "        else:\n",
    "            vec_b = new_df[(new_df[\"group\"] == \"B\")][\"total_dur\"]\n",
    "        sample_a_mean = calc_bootstrap_mean(vec_a, size=1000)\n",
    "        sample_b_mean = calc_bootstrap_mean(vec_b, size=1000)\n",
    "        values.append(sample_a_mean - sample_b_mean)\n",
    "        left_side, right_side = np.percentile(\n",
    "            sample_a_mean - sample_b_mean, [100 * 0.05 / 2.0, 100 * (1 - 0.05 / 2.0)]\n",
    "        )\n",
    "        correctness.append(not left_side <= 0 <= right_side)\n",
    "\n",
    "    return correctness, values"
   ]
  },
  {
   "cell_type": "code",
   "execution_count": null,
   "metadata": {
    "colab": {
     "base_uri": "https://localhost:8080/"
    },
    "id": "uYdj7mNL2nd2",
    "outputId": "ad52f68c-ad73-4d79-b16d-0243155e08d5"
   },
   "outputs": [
    {
     "name": "stderr",
     "output_type": "stream",
     "text": [
      "100%|██████████| 1000/1000 [2:46:52<00:00, 10.01s/it]\n"
     ]
    }
   ],
   "source": [
    "correctness, values = calculate_correctness(\n",
    "    df=week2, columns=[\"user_id\", \"total_dur\", \"group\"]\n",
    ")"
   ]
  },
  {
   "cell_type": "markdown",
   "metadata": {
    "id": "cX00F0Hgu_BV"
   },
   "source": [
    "Сохраним данные"
   ]
  },
  {
   "cell_type": "code",
   "execution_count": null,
   "metadata": {
    "id": "y_Cb5_shuleb"
   },
   "outputs": [],
   "source": [
    "correctness_pd = pd.DataFrame(correctness)\n",
    "values_pd = pd.DataFrame(values)  # по строкам"
   ]
  },
  {
   "cell_type": "code",
   "execution_count": null,
   "metadata": {
    "id": "UUFL7VczvXVn"
   },
   "outputs": [],
   "source": [
    "correctness_pd.to_csv(\"correctness_pd.csv\", index=False)\n",
    "values_pd.to_csv(\"values_pd.csv\", index=False, sep=\";\")"
   ]
  },
  {
   "cell_type": "code",
   "execution_count": null,
   "metadata": {
    "id": "vrFeE3Y_v1ZX"
   },
   "outputs": [],
   "source": [
    "!cp correctness_pd.csv /content/drive/MyDrive/itmo_ab/hw-1"
   ]
  },
  {
   "cell_type": "code",
   "execution_count": null,
   "metadata": {
    "id": "FnsuY9L8v3-2"
   },
   "outputs": [],
   "source": [
    "!cp values_pd.csv /content/drive/MyDrive/itmo_ab/hw-1"
   ]
  },
  {
   "cell_type": "markdown",
   "metadata": {
    "id": "kzA82O2rwXsc"
   },
   "source": [
    "Посчитаем мощность и так же сохраним данные"
   ]
  },
  {
   "cell_type": "code",
   "execution_count": null,
   "metadata": {
    "id": "V5ktSChjx7B5"
   },
   "outputs": [],
   "source": [
    "EFFECTS = [1.01, 1.03, 1.05]"
   ]
  },
  {
   "cell_type": "code",
   "execution_count": null,
   "metadata": {
    "colab": {
     "base_uri": "https://localhost:8080/"
    },
    "id": "VAEygdUAyD-d",
    "outputId": "17d13b57-156d-4d30-dabf-a8b15dbc8ab2"
   },
   "outputs": [
    {
     "name": "stderr",
     "output_type": "stream",
     "text": [
      "100%|██████████| 1000/1000 [2:47:23<00:00, 10.04s/it]\n",
      "100%|██████████| 1000/1000 [2:47:40<00:00, 10.06s/it]\n",
      "100%|██████████| 1000/1000 [2:41:49<00:00,  9.71s/it]\n"
     ]
    }
   ],
   "source": [
    "for effect in EFFECTS:\n",
    "    correctness, values = calculate_correctness(\n",
    "        df=week2, columns=[\"user_id\", \"total_dur\", \"group\"], effect=effect\n",
    "    )\n",
    "    correctness_pd = pd.DataFrame(correctness)\n",
    "    values_pd = pd.DataFrame(values)\n",
    "    correctness_pd.to_csv(f\"correctness_pd_{int(effect*100)}.csv\", index=False)\n",
    "    values_pd.to_csv(f\"values_pd_{int(effect*100)}.csv\", index=False, sep=\";\")"
   ]
  },
  {
   "cell_type": "code",
   "execution_count": null,
   "metadata": {
    "id": "TYRLa76-xIDS"
   },
   "outputs": [],
   "source": [
    "!cp correctness_pd_101.csv /content/drive/MyDrive/itmo_ab/hw-1\n",
    "!cp correctness_pd_103.csv /content/drive/MyDrive/itmo_ab/hw-1\n",
    "!cp correctness_pd_105.csv /content/drive/MyDrive/itmo_ab/hw-1\n",
    "!cp values_pd_101.csv /content/drive/MyDrive/itmo_ab/hw-1\n",
    "!cp values_pd_103.csv /content/drive/MyDrive/itmo_ab/hw-1\n",
    "!cp values_pd_105.csv /content/drive/MyDrive/itmo_ab/hw-1"
   ]
  },
  {
   "cell_type": "markdown",
   "metadata": {
    "id": "u-y25Fc2wkIE"
   },
   "source": [
    "Проведем анализ полученных значений и построим график p-value (оценим на равномерность)"
   ]
  },
  {
   "cell_type": "code",
   "execution_count": null,
   "metadata": {
    "id": "FRFm4fNdneV1"
   },
   "outputs": [],
   "source": [
    "correctness = pd.read_csv(\"/content/drive/MyDrive/itmo_ab/hw-1/correctness_pd.csv\")\n",
    "correctness_101 = pd.read_csv(\n",
    "    \"/content/drive/MyDrive/itmo_ab/hw-1/correctness_pd_101.csv\"\n",
    ")\n",
    "correctness_103 = pd.read_csv(\n",
    "    \"/content/drive/MyDrive/itmo_ab/hw-1/correctness_pd_103.csv\"\n",
    ")\n",
    "correctness_105 = pd.read_csv(\n",
    "    \"/content/drive/MyDrive/itmo_ab/hw-1/correctness_pd_105.csv\"\n",
    ")\n",
    "\n",
    "values = pd.read_csv(\"/content/drive/MyDrive/itmo_ab/hw-1/values_pd.csv\", sep=\";\")\n",
    "values_101 = pd.read_csv(\n",
    "    \"/content/drive/MyDrive/itmo_ab/hw-1/values_pd_101.csv\", sep=\";\"\n",
    ")\n",
    "values_103 = pd.read_csv(\n",
    "    \"/content/drive/MyDrive/itmo_ab/hw-1/values_pd_103.csv\", sep=\";\"\n",
    ")\n",
    "values_105 = pd.read_csv(\n",
    "    \"/content/drive/MyDrive/itmo_ab/hw-1/values_pd_105.csv\", sep=\";\"\n",
    ")"
   ]
  },
  {
   "cell_type": "markdown",
   "metadata": {
    "id": "-INvqWbwxw0b"
   },
   "source": [
    "* Считаем процент пар, в которых p-value ≤ 𝛼: т.е считаем в скольких случаях\n",
    "критерий (сработал) нашел различия, когда его на самом деле нет.\n",
    "* В нашем случае, считаем процент НЕ покрытия нуля"
   ]
  },
  {
   "cell_type": "code",
   "execution_count": null,
   "metadata": {
    "colab": {
     "base_uri": "https://localhost:8080/"
    },
    "id": "-x25lQ07xfgn",
    "outputId": "fc3f456d-4d92-4fc1-f40c-56beb167d7b8"
   },
   "outputs": [
    {
     "data": {
      "text/plain": [
       "0    0.049\n",
       "dtype: float64"
      ]
     },
     "execution_count": 11,
     "metadata": {},
     "output_type": "execute_result"
    }
   ],
   "source": [
    "correctness.astype(int).mean()"
   ]
  },
  {
   "cell_type": "markdown",
   "metadata": {
    "id": "h_opcLUIyXjH"
   },
   "source": [
    "Получилось 0.049. Близко к пяти процентам. Следовательно, вероятность отклонить нулевую гипотезу, когда она верна - 5%"
   ]
  },
  {
   "cell_type": "code",
   "execution_count": null,
   "metadata": {
    "id": "aIv_Xsu-zpJ6"
   },
   "outputs": [],
   "source": [
    "p_values = [get_p_value(values.iloc[i, :].tolist()) for i in range(1000)]"
   ]
  },
  {
   "cell_type": "code",
   "execution_count": null,
   "metadata": {
    "colab": {
     "base_uri": "https://localhost:8080/",
     "height": 469
    },
    "id": "DNqUuh-JyPaN",
    "outputId": "c635e29f-6d2e-45d5-b562-ab37d41f10f8"
   },
   "outputs": [
    {
     "data": {
      "text/plain": [
       "Text(0.5, 1.0, 'Бутстреп распределение p_value')"
      ]
     },
     "execution_count": 22,
     "metadata": {},
     "output_type": "execute_result"
    },
    {
     "data": {
      "image/png": "[encoded data removed]",
      "text/plain": [
       "<Figure size 640x480 with 1 Axes>"
      ]
     },
     "metadata": {},
     "output_type": "display_data"
    }
   ],
   "source": [
    "plt.hist(p_values, bins=10, color=\"purple\")\n",
    "plt.title(f\"Бутстреп распределение p_value\")"
   ]
  },
  {
   "cell_type": "code",
   "execution_count": null,
   "metadata": {
    "colab": {
     "base_uri": "https://localhost:8080/"
    },
    "id": "5Oyni4Fez4-p",
    "outputId": "517e3cc8-b24d-4a70-8a2f-c62f85ac3c50"
   },
   "outputs": [
    {
     "name": "stdout",
     "output_type": "stream",
     "text": [
      "p_value = 0.7097553870119024 - p_values равномерное распределение\n"
     ]
    }
   ],
   "source": [
    "stat, p_value = scipy.stats.kstest(\n",
    "    p_values, scipy.stats.uniform(loc=0.0, scale=1.0).cdf\n",
    ")\n",
    "\n",
    "if p_value < 0.05:\n",
    "    print(f\"p_value = {p_value} - p_values неравномерное распределение\")\n",
    "else:\n",
    "    print(f\"p_value = {p_value} - p_values равномерное распределение\")"
   ]
  },
  {
   "cell_type": "markdown",
   "metadata": {
    "id": "_oSEnCVp0K9q"
   },
   "source": [
    "Проделаем такое же упражнение для различных эффектов в группу B. И сравним мощность в разрезе"
   ]
  },
  {
   "cell_type": "code",
   "execution_count": null,
   "metadata": {
    "colab": {
     "base_uri": "https://localhost:8080/"
    },
    "id": "3npuS4Wl0CuK",
    "outputId": "b537769d-231f-4471-a92d-cd01574a3e39"
   },
   "outputs": [
    {
     "data": {
      "text/plain": [
       "0    0.107\n",
       "dtype: float64"
      ]
     },
     "execution_count": 25,
     "metadata": {},
     "output_type": "execute_result"
    }
   ],
   "source": [
    "correctness_101.astype(int).mean()"
   ]
  },
  {
   "cell_type": "code",
   "execution_count": null,
   "metadata": {
    "colab": {
     "base_uri": "https://localhost:8080/"
    },
    "id": "eOhaVTTg0-HQ",
    "outputId": "94b3d33a-8a74-4df9-f80f-e52c65a4e303"
   },
   "outputs": [
    {
     "data": {
      "text/plain": [
       "0    0.625\n",
       "dtype: float64"
      ]
     },
     "execution_count": 26,
     "metadata": {},
     "output_type": "execute_result"
    }
   ],
   "source": [
    "correctness_103.astype(int).mean()"
   ]
  },
  {
   "cell_type": "code",
   "execution_count": null,
   "metadata": {
    "colab": {
     "base_uri": "https://localhost:8080/"
    },
    "id": "zaMvkeRN1CPn",
    "outputId": "3a645f17-4c53-4e69-8409-70a4e699675b"
   },
   "outputs": [
    {
     "data": {
      "text/plain": [
       "0    0.969\n",
       "dtype: float64"
      ]
     },
     "execution_count": 27,
     "metadata": {},
     "output_type": "execute_result"
    }
   ],
   "source": [
    "correctness_105.astype(int).mean()"
   ]
  },
  {
   "cell_type": "markdown",
   "metadata": {
    "id": "fzscGuV204BC"
   },
   "source": [
    "* Вероятность отклонить нулевую гипотезу, когда нулевая гипотеза ложна =>\n",
    "вероятность не допустить ошибку 2 рода (1 - β)\n",
    "* Видим, что при добавлении эффекта в 5% в группу B, мы почти никогда не покрываем ноль. Это говорит о том, что с вероятностью 0.969 мы принимаем верное решение относительно гипотез\n",
    "* Также хочу заметить, что наблюдается нелинейный рост правильных решений: при эффекте 1% - вероятность равна 0.107, а при 3% - уже 0.625\n"
   ]
  },
  {
   "cell_type": "code",
   "execution_count": null,
   "metadata": {
    "colab": {
     "base_uri": "https://localhost:8080/",
     "height": 469
    },
    "id": "p0K49I960riQ",
    "outputId": "ded9bee8-3901-43e1-8df5-a68aee477077"
   },
   "outputs": [
    {
     "data": {
      "text/plain": [
       "Text(0.5, 1.0, 'Бутстреп распределение p_value')"
      ]
     },
     "execution_count": 30,
     "metadata": {},
     "output_type": "execute_result"
    },
    {
     "data": {
      "image/png": "[encoded data removed]",
      "text/plain": [
       "<Figure size 640x480 with 1 Axes>"
      ]
     },
     "metadata": {},
     "output_type": "display_data"
    }
   ],
   "source": [
    "p_values = [get_p_value(values_101.iloc[i, :].tolist()) for i in range(1000)]\n",
    "\n",
    "plt.hist(p_values, bins=10, color=\"purple\")\n",
    "plt.title(f\"Бутстреп распределение p_value\")"
   ]
  },
  {
   "cell_type": "code",
   "execution_count": null,
   "metadata": {
    "colab": {
     "base_uri": "https://localhost:8080/",
     "height": 469
    },
    "id": "QLfzo8Yw2BY0",
    "outputId": "e4daaa44-ca5f-4c14-e5fe-eadea599c064"
   },
   "outputs": [
    {
     "data": {
      "text/plain": [
       "Text(0.5, 1.0, 'Бутстреп распределение p_value')"
      ]
     },
     "execution_count": 31,
     "metadata": {},
     "output_type": "execute_result"
    },
    {
     "data": {
      "image/png": "[encoded data removed]",
      "text/plain": [
       "<Figure size 640x480 with 1 Axes>"
      ]
     },
     "metadata": {},
     "output_type": "display_data"
    }
   ],
   "source": [
    "p_values = [get_p_value(values_103.iloc[i, :].tolist()) for i in range(1000)]\n",
    "\n",
    "plt.hist(p_values, bins=10, color=\"purple\")\n",
    "plt.title(f\"Бутстреп распределение p_value\")"
   ]
  },
  {
   "cell_type": "code",
   "execution_count": null,
   "metadata": {
    "colab": {
     "base_uri": "https://localhost:8080/",
     "height": 469
    },
    "id": "JWUvP9Dv2P6H",
    "outputId": "1cdc2f4c-88fd-4d46-ce7a-65c006188c87"
   },
   "outputs": [
    {
     "data": {
      "text/plain": [
       "Text(0.5, 1.0, 'Бутстреп распределение p_value')"
      ]
     },
     "execution_count": 32,
     "metadata": {},
     "output_type": "execute_result"
    },
    {
     "data": {
      "image/png": "[encoded data removed]",
      "text/plain": [
       "<Figure size 640x480 with 1 Axes>"
      ]
     },
     "metadata": {},
     "output_type": "display_data"
    }
   ],
   "source": [
    "p_values = [get_p_value(values_105.iloc[i, :].tolist()) for i in range(1000)]\n",
    "\n",
    "plt.hist(p_values, bins=10, color=\"purple\")\n",
    "plt.title(f\"Бутстреп распределение p_value\")"
   ]
  },
  {
   "cell_type": "markdown",
   "metadata": {
    "id": "5FC3UIW52W_n"
   },
   "source": [
    "С помощью графиков p-values мы можем подтвердить мою гипотезу о нелинейном росте"
   ]
  },
  {
   "cell_type": "markdown",
   "metadata": {
    "id": "YmLST__Z2vzn"
   },
   "source": [
    "## MDE"
   ]
  },
  {
   "cell_type": "markdown",
   "metadata": {
    "id": "sx7TcqI62yrC"
   },
   "source": [
    "* Для расчета MDE следует учесть, что формула с лекции работает для t-test и z-test. Однако я сделаю допущение, что для бутстрэпа в среднем будет так же (на семинаре об этом затрагивалось). В будущем изучу дополнительную литературу для MDE конкретно для бутстрэпа\n",
    "* Подставлю свои значения alpha и beta (для 1%)"
   ]
  },
  {
   "cell_type": "code",
   "execution_count": null,
   "metadata": {
    "colab": {
     "base_uri": "https://localhost:8080/"
    },
    "id": "06DmBuz82TN_",
    "outputId": "be4e23eb-0511-4468-c3e9-eecf02219901"
   },
   "outputs": [
    {
     "data": {
      "text/plain": [
       "2.068494941034016"
      ]
     },
     "execution_count": 37,
     "metadata": {},
     "output_type": "execute_result"
    }
   ],
   "source": [
    "get_mde(week2[\"total_dur\"], alpha=0.049, beta=0.107)"
   ]
  },
  {
   "cell_type": "markdown",
   "metadata": {
    "id": "5xU6SZF04ljg"
   },
   "source": [
    "Получился минимальный эффект в 2%. Это говорит о том, что мы можем обнаружить изменения в 2% с уверенностью в 1 - 0.049"
   ]
  },
  {
   "cell_type": "markdown",
   "metadata": {
    "id": "d5ixY1xfHqZQ"
   },
   "source": [
    "# A/B тест"
   ]
  },
  {
   "cell_type": "markdown",
   "metadata": {
    "id": "mgZPt_y1Hwhl"
   },
   "source": [
    "Занулим total_dur у тех пользователей, у которых total_dur < 500"
   ]
  },
  {
   "cell_type": "code",
   "execution_count": 9,
   "metadata": {
    "id": "i4sU2CMkHmWX"
   },
   "outputs": [],
   "source": [
    "week2[\"total_dur_prep\"] = week2[\"total_dur\"].apply(lambda x: 0 if x < 500 else x)"
   ]
  },
  {
   "cell_type": "markdown",
   "metadata": {
    "id": "IxuI6PkEIW_s"
   },
   "source": [
    "Разобьем данные с солью kiontestmodel20210805"
   ]
  },
  {
   "cell_type": "code",
   "execution_count": 10,
   "metadata": {
    "id": "8pkpz7YqILSR"
   },
   "outputs": [],
   "source": [
    "new_df = groups_splitter(\n",
    "    week2.copy(),\n",
    "    columns=[\"user_id\", \"total_dur_prep\", \"group\"],\n",
    "    user_salt=salt_generator(salt=\"kiontestmodel20210805\"),\n",
    ").drop_duplicates()"
   ]
  },
  {
   "cell_type": "code",
   "execution_count": 11,
   "metadata": {
    "colab": {
     "base_uri": "https://localhost:8080/"
    },
    "id": "ZaWnRXOxIsqb",
    "outputId": "dec137d6-1fa4-486e-cf50-f16586326a76"
   },
   "outputs": [
    {
     "output_type": "execute_result",
     "data": {
      "text/plain": [
       "A    0.500389\n",
       "B    0.499611\n",
       "Name: group, dtype: float64"
      ]
     },
     "metadata": {},
     "execution_count": 11
    }
   ],
   "source": [
    "new_df[\"group\"].value_counts(normalize=True)"
   ]
  },
  {
   "cell_type": "markdown",
   "metadata": {
    "id": "R8n_DCeCJGWV"
   },
   "source": [
    "Увеличим total_dur на 2.5% у тех пользователей в группе B, которые входят в топ 10% самых смотрящих"
   ]
  },
  {
   "cell_type": "code",
   "execution_count": 12,
   "metadata": {
    "colab": {
     "base_uri": "https://localhost:8080/"
    },
    "id": "UdViIdeiJ_FI",
    "outputId": "3a01dae6-aef3-4d35-e484-abe61ea1fe0e"
   },
   "outputs": [
    {
     "output_type": "execute_result",
     "data": {
      "text/plain": [
       "(139456, 3)"
      ]
     },
     "metadata": {},
     "execution_count": 12
    }
   ],
   "source": [
    "new_df[new_df[\"group\"] == \"B\"].shape"
   ]
  },
  {
   "cell_type": "code",
   "execution_count": 13,
   "metadata": {
    "colab": {
     "base_uri": "https://localhost:8080/"
    },
    "id": "Qx_2H9m1KA6c",
    "outputId": "38e91dca-654c-47e2-f94d-5d9aa355e2e8"
   },
   "outputs": [
    {
     "output_type": "execute_result",
     "data": {
      "text/plain": [
       "13980.2"
      ]
     },
     "metadata": {},
     "execution_count": 13
    }
   ],
   "source": [
    "139802 * 0.1"
   ]
  },
  {
   "cell_type": "code",
   "execution_count": 14,
   "metadata": {
    "id": "XowdNDMCIubo"
   },
   "outputs": [],
   "source": [
    "list_users = (\n",
    "    new_df[new_df[\"group\"] == \"B\"]\n",
    "    .sort_values(by=\"total_dur_prep\", ascending=False)\n",
    "    .head(13980)[\"user_id\"]\n",
    "    .tolist()\n",
    ")"
   ]
  },
  {
   "cell_type": "code",
   "execution_count": 15,
   "metadata": {
    "id": "uauDHC6QJgBR"
   },
   "outputs": [],
   "source": [
    "new_df[\"total_dur_prep_final\"] = new_df[[\"user_id\", \"total_dur_prep\"]].apply(\n",
    "    lambda x: x.total_dur_prep * 1.025 if x.user_id in list_users else x.total_dur_prep,\n",
    "    axis=1,\n",
    ")"
   ]
  },
  {
   "cell_type": "code",
   "execution_count": 16,
   "metadata": {
    "id": "yHjl-YolM5S9"
   },
   "outputs": [],
   "source": [
    "def calculate_ab(df):\n",
    "    correctness = []\n",
    "    values = []\n",
    "    for i in tqdm(range(1000)):\n",
    "        vec_a = df[(df[\"group\"] == \"A\")][\"total_dur_prep_final\"]\n",
    "        vec_b = df[(df[\"group\"] == \"B\")][\"total_dur_prep_final\"]\n",
    "        sample_a_mean = calc_bootstrap_mean(vec_a, size=1000)\n",
    "        sample_b_mean = calc_bootstrap_mean(vec_b, size=1000)\n",
    "        values.append(sample_a_mean - sample_b_mean)\n",
    "        left_side, right_side = np.percentile(\n",
    "            sample_a_mean - sample_b_mean, [100 * 0.05 / 2.0, 100 * (1 - 0.05 / 2.0)]\n",
    "        )\n",
    "        correctness.append(not left_side <= 0 <= right_side)\n",
    "\n",
    "    return correctness, values"
   ]
  },
  {
   "cell_type": "code",
   "execution_count": null,
   "metadata": {
    "colab": {
     "background_save": true,
     "base_uri": "https://localhost:8080/"
    },
    "id": "pRBmbzfMNbSh",
    "outputId": "1bcdf3ab-858e-4515-9d50-28124f2bdbdb"
   },
   "outputs": [
    {
     "name": "stderr",
     "output_type": "stream",
     "text": [
      "100%|██████████| 1000/1000 [2:16:31<00:00,  8.19s/it]\n"
     ]
    }
   ],
   "source": [
    "correctness, values = calculate_ab(new_df[[\"group\", \"total_dur_prep_final\"]])"
   ]
  },
  {
   "cell_type": "code",
   "execution_count": null,
   "metadata": {
    "colab": {
     "background_save": true
    },
    "id": "1kN7zjuNONXh"
   },
   "outputs": [],
   "source": [
    "correctness_pd = pd.DataFrame(correctness)\n",
    "values_pd = pd.DataFrame(values)"
   ]
  },
  {
   "cell_type": "code",
   "execution_count": null,
   "metadata": {
    "colab": {
     "background_save": true
    },
    "id": "TxtSZaOxOgMS"
   },
   "outputs": [],
   "source": [
    "correctness_pd.to_csv(\"correctness_pd_ab.csv\", index=False)\n",
    "values_pd.to_csv(\"values_pd_ab.csv\", index=False, sep=\";\")"
   ]
  },
  {
   "cell_type": "code",
   "execution_count": null,
   "metadata": {
    "colab": {
     "background_save": true
    },
    "id": "AbOfoFfDOoTX"
   },
   "outputs": [],
   "source": [
    "!cp correctness_pd_ab.csv /content/drive/MyDrive/itmo_ab/hw-1\n",
    "!cp values_pd_ab.csv /content/drive/MyDrive/itmo_ab/hw-1"
   ]
  },
  {
   "cell_type": "code",
   "execution_count": 21,
   "metadata": {
    "id": "-44if8L2O7E8"
   },
   "outputs": [],
   "source": [
    "correctness_ab = pd.read_csv(\n",
    "    \"/content/drive/MyDrive/itmo_ab/hw-1/correctness_pd_ab.csv\"\n",
    ")\n",
    "values_ab = pd.read_csv(\"/content/drive/MyDrive/itmo_ab/hw-1/values_pd_ab.csv\", sep=\";\")"
   ]
  },
  {
   "cell_type": "code",
   "source": [
    "correctness_ab.astype(int).sum()"
   ],
   "metadata": {
    "colab": {
     "base_uri": "https://localhost:8080/"
    },
    "id": "PMHTXkSezEO4",
    "outputId": "ccea5a39-d707-46b1-8b0b-55c8ae6c86cf"
   },
   "execution_count": 19,
   "outputs": [
    {
     "output_type": "execute_result",
     "data": {
      "text/plain": [
       "0    0\n",
       "dtype: int64"
      ]
     },
     "metadata": {},
     "execution_count": 19
    }
   ]
  },
  {
   "cell_type": "code",
   "source": [
    "p_values = [get_p_value(values_ab.iloc[i, :].tolist()) for i in range(1000)]\n",
    "\n",
    "plt.hist(p_values, bins=10, color=\"purple\")\n",
    "plt.title(f\"Бутстреп распределение p_value\")"
   ],
   "metadata": {
    "colab": {
     "base_uri": "https://localhost:8080/",
     "height": 469
    },
    "id": "gqg0Smlwza6p",
    "outputId": "94d78aa4-051d-4fd6-b103-50ad73460549"
   },
   "execution_count": 25,
   "outputs": [
    {
     "output_type": "execute_result",
     "data": {
      "text/plain": [
       "Text(0.5, 1.0, 'Бутстреп распределение p_value')"
      ]
     },
     "metadata": {},
     "execution_count": 25
    },
    {
     "output_type": "display_data",
     "data": {
      "text/plain": [
       "<Figure size 640x480 with 1 Axes>"
      ],
      "image/png": "[encoded data removed]"
     },
     "metadata": {}
    }
   ]
  },
  {
   "cell_type": "markdown",
   "source": [
    "* Можно увидеть, что ни одни границы из 1000 сэмплов не включали в себя ноль. Это может говорить о статистически значимом улучшении в тестовой группе по сравнению с контрольной\n",
    "* Также p-values были меньше alpha = 0.049"
   ],
   "metadata": {
    "id": "UfAE-KlQ6f3H"
   }
  },
  {
   "cell_type": "code",
   "source": [],
   "metadata": {
    "id": "34zQ_k2F6UmP"
   },
   "execution_count": null,
   "outputs": []
  }
 ],
 "metadata": {
  "colab": {
   "provenance": []
  },
  "kernelspec": {
   "display_name": "Python 3",
   "name": "python3"
  },
  "language_info": {
   "name": "python"
  }
 },
 "nbformat": 4,
 "nbformat_minor": 0
}